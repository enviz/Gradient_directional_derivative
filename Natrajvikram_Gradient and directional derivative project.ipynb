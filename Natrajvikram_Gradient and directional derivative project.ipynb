{
 "cells": [
  {
   "cell_type": "markdown",
   "id": "bb0fef9e",
   "metadata": {},
   "source": [
    "### Gradient and Directional Derivative\n",
    "\n",
    "The point of this project is to code a application in Python that takes the coordinates of a point in R² (given by the user), the components of a vector (also given by the user) and calculates the directional derivative of the function f(x,y) = x³y - xy³ at this point.\n",
    "\n",
    "\n",
    "It is required from you to write a Python code that:\n",
    "\n",
    "- asks the user to enter the coordinates x and y of a point in R²\n",
    "- calculates the gradient of the function f(x,y) = x³y - xy³ at this point\n",
    "- handles the case where the user writes non numerical values\n",
    "- asks the user the components of the vector u\n",
    "- creates a unit vector u' out of u\n",
    "- computes the directional derivative of f at the point given by the user in the direction of the vector u (also given by the user)\n",
    "\n",
    "\n",
    "The way to display the gradient at this point as well as the directional derivative is up to you."
   ]
  },
  {
   "cell_type": "code",
   "execution_count": 6,
   "id": "9338f98c",
   "metadata": {},
   "outputs": [
    {
     "name": "stdout",
     "output_type": "stream",
     "text": [
      "Requirement already satisfied: numdifftools in c:\\programdata\\anaconda3\\lib\\site-packages (0.9.40)\n",
      "Requirement already satisfied: numpy>=1.9 in c:\\programdata\\anaconda3\\lib\\site-packages (from numdifftools) (1.20.1)\n",
      "Requirement already satisfied: scipy>=0.8 in c:\\programdata\\anaconda3\\lib\\site-packages (from numdifftools) (1.6.2)\n",
      "Requirement already satisfied: algopy>=0.4 in c:\\programdata\\anaconda3\\lib\\site-packages (from numdifftools) (0.5.7)\n",
      "Requirement already satisfied: statsmodels>=0.6 in c:\\programdata\\anaconda3\\lib\\site-packages (from numdifftools) (0.12.2)\n",
      "Requirement already satisfied: pandas>=0.21 in c:\\programdata\\anaconda3\\lib\\site-packages (from statsmodels>=0.6->numdifftools) (1.2.4)\n",
      "Requirement already satisfied: patsy>=0.5 in c:\\programdata\\anaconda3\\lib\\site-packages (from statsmodels>=0.6->numdifftools) (0.5.1)\n",
      "Requirement already satisfied: python-dateutil>=2.7.3 in c:\\programdata\\anaconda3\\lib\\site-packages (from pandas>=0.21->statsmodels>=0.6->numdifftools) (2.8.1)\n",
      "Requirement already satisfied: pytz>=2017.3 in c:\\programdata\\anaconda3\\lib\\site-packages (from pandas>=0.21->statsmodels>=0.6->numdifftools) (2021.1)\n",
      "Requirement already satisfied: six in c:\\programdata\\anaconda3\\lib\\site-packages (from patsy>=0.5->statsmodels>=0.6->numdifftools) (1.15.0)\n"
     ]
    }
   ],
   "source": [
    "!pip install numdifftools"
   ]
  },
  {
   "cell_type": "code",
   "execution_count": 1,
   "id": "5786df5d",
   "metadata": {},
   "outputs": [],
   "source": [
    "import numdifftools as nd\n",
    "\n",
    "import numpy as np\n",
    "\n",
    "\n",
    "\n",
    "def f(x):\n",
    "    #x[0] = x\n",
    "    #x[1] = y\n",
    "    return (x[0]**3)*(x[1]) - (x[0]*(x[1]**3))\n",
    "\n",
    "\n",
    "def gradient_dd(x1,x2,u1,u2):\n",
    "    \n",
    "    #function that calculates the gradient at a specific point and the directional derivative \n",
    "    \n",
    "\n",
    "    point = [x1,x2]  #point\n",
    "\n",
    "        \n",
    "    grad = nd.Gradient(f)(point)  #calculates the gradient at a given point for the function f(x)\n",
    "    \n",
    "    grad = np.array(grad)\n",
    "    \n",
    "    \n",
    "    \n",
    "    denom = (u1**2+u2**2)**0.5\n",
    "    \n",
    "    uv = np.array([u1/denom, u2/denom]) #unit vector\n",
    "    \n",
    "\n",
    "    dd_result = np.dot(grad,uv) ##directional derivative in the direction of (u1,u2)\n",
    "    \n",
    "    return grad,dd_result"
   ]
  },
  {
   "cell_type": "code",
   "execution_count": 2,
   "id": "ea0a1609",
   "metadata": {},
   "outputs": [
    {
     "name": "stdout",
     "output_type": "stream",
     "text": [
      "Gradient of y*x^3-x*y^3 at point ( 1 , 2 ) is [ -2. -11.] \n",
      " and The directional derivative of the function in the direction of ( 2 , 3 ) is -10.261953630166758\n"
     ]
    }
   ],
   "source": [
    "x_1 = 1\n",
    "x_2 = 2\n",
    "#point\n",
    "\n",
    "u_1 = 2\n",
    "u_2 = 3\n",
    "#unit vector\n",
    "\n",
    "gr,ddr = gradient_dd(1,2,2,3)\n",
    "print(\"Gradient of y*x^3-x*y^3 at point (\", x_1,\",\",x_2,\") is\",gr, \"\\n and The directional derivative of the function in the direction of (\",u_1,\",\",u_2,\") is\",ddr)"
   ]
  }
 ],
 "metadata": {
  "kernelspec": {
   "display_name": "Python 3",
   "language": "python",
   "name": "python3"
  },
  "language_info": {
   "codemirror_mode": {
    "name": "ipython",
    "version": 3
   },
   "file_extension": ".py",
   "mimetype": "text/x-python",
   "name": "python",
   "nbconvert_exporter": "python",
   "pygments_lexer": "ipython3",
   "version": "3.8.8"
  }
 },
 "nbformat": 4,
 "nbformat_minor": 5
}
